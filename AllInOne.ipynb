{
 "cells": [
  {
   "cell_type": "code",
   "execution_count": null,
   "id": "initial_id",
   "metadata": {
    "collapsed": true
   },
   "outputs": [],
   "source": [
    "!pip install yfinance\n",
    "!pip install numpy\n",
    "!pip install matplotlib\n",
    "!pip install mplfinance\n",
    "!pip install pandas"
   ]
  },
  {
   "cell_type": "code",
   "outputs": [],
   "source": [
    "import yfinance as yf\n",
    "from matplotlib import pyplot as plt\n",
    "from datetime import datetime, timedelta\n",
    "from darts import TimeSeries\n",
    "import pandas as pd\n",
    "import requests\n",
    "import itertools\n",
    "from darts.dataprocessing.transformers import Scaler\n",
    "from darts.utils.statistics import plot_acf, check_seasonality"
   ],
   "metadata": {
    "collapsed": false
   },
   "id": "705d996fe9e18e3a"
  },
  {
   "cell_type": "code",
   "outputs": [],
   "source": [
    "today = datetime.today().date()\n",
    "data = pd.DataFrame()\n",
    "cryptos = ['BTC', 'ETH', 'USDT', 'BNB', 'SOL', 'ADA', 'DOGE']"
   ],
   "metadata": {
    "collapsed": false
   },
   "id": "f176e1f31c50dc14"
  },
  {
   "cell_type": "code",
   "outputs": [],
   "source": [
    "for crypto in cryptos:\n",
    "    asset = yf.download(f'{crypto}-USD', interval= '1d', end=today)\n",
    "    if crypto == 'BTC':\n",
    "        data.index = asset.index\n",
    "        ind = list(pd.date_range(min(data.index), today))\n",
    "        data = data.reindex(index=ind)\n",
    "    data[f'{crypto}'] = asset['Close']"
   ],
   "metadata": {
    "collapsed": false
   },
   "id": "d3f5f134c45c0cb1"
  },
  {
   "cell_type": "code",
   "outputs": [],
   "source": [
    "# Forward fill missing values\n",
    "data = data.fillna(method=\"ffill\")\n",
    "# Drop today's date for which we don't have yet the close price yet\n",
    "data = data.loc[data.index!=str(today)]\n",
    "data = data.fillna(0)"
   ],
   "metadata": {
    "collapsed": false
   },
   "id": "16afb30678cbdea1"
  },
  {
   "cell_type": "code",
   "outputs": [],
   "source": [
    "# we are dealing with a multivariate series where each column corresponds to a different cryptocurrency, the values represent crypto closing prices, and the indices consist of dates\n",
    "data = data.reset_index()\n",
    "series = TimeSeries.from_dataframe(data, time_col=\"Date\", value_cols=cryptos)\n",
    "# Create Training & Validation Series\n",
    "val_set_size = 28\n",
    "val_set_split_date = max(data[\"Date\"])-timedelta(days=val_set_size)\n",
    "train, val = series.split_before(val_set_split_date)\n",
    "train.plot(label='training')\n",
    "val.plot(label='validation')"
   ],
   "metadata": {
    "collapsed": false
   },
   "id": "de75b91eaffe7520"
  },
  {
   "cell_type": "code",
   "outputs": [],
   "source": [
    "# Scaling these series to a range of 0 to 1\n",
    "scaler = Scaler()\n",
    "scaler = scaler.fit(train)\n",
    "train_scaled = scaler.transform(train)\n",
    "train_scaled = train_scaled.astype(\"float32\")\n",
    "val_scaled = scaler.transform(val)\n",
    "val_scaled = val_scaled.astype(\"float32\")\n",
    "train_scaled.plot()"
   ],
   "metadata": {
    "collapsed": false
   },
   "id": "923b7edce40311c"
  },
  {
   "cell_type": "code",
   "outputs": [],
   "source": [],
   "metadata": {
    "collapsed": false
   },
   "id": "1b25258a0875884c"
  },
  {
   "cell_type": "code",
   "outputs": [],
   "source": [],
   "metadata": {
    "collapsed": false
   },
   "id": "4d70d0aa2be798ae"
  },
  {
   "cell_type": "code",
   "outputs": [],
   "source": [],
   "metadata": {
    "collapsed": false
   },
   "id": "e75c8c396d87293c"
  },
  {
   "cell_type": "code",
   "outputs": [],
   "source": [],
   "metadata": {
    "collapsed": false
   },
   "id": "10a1c0b27b7fc2da"
  },
  {
   "cell_type": "code",
   "outputs": [],
   "source": [],
   "metadata": {
    "collapsed": false
   },
   "id": "8567ca9c42d70234"
  },
  {
   "cell_type": "code",
   "outputs": [],
   "source": [],
   "metadata": {
    "collapsed": false
   },
   "id": "36e52242ae5219ef"
  },
  {
   "cell_type": "code",
   "outputs": [],
   "source": [],
   "metadata": {
    "collapsed": false
   },
   "id": "a8bfd6d5e06a7c2c"
  },
  {
   "cell_type": "code",
   "outputs": [],
   "source": [],
   "metadata": {
    "collapsed": false
   },
   "id": "8e642cbd36737cc0"
  },
  {
   "cell_type": "code",
   "outputs": [],
   "source": [],
   "metadata": {
    "collapsed": false
   },
   "id": "76abbeff4f9e823a"
  },
  {
   "cell_type": "code",
   "outputs": [],
   "source": [],
   "metadata": {
    "collapsed": false
   },
   "id": "a6f45acb9730b5f4"
  },
  {
   "cell_type": "code",
   "outputs": [],
   "source": [],
   "metadata": {
    "collapsed": false
   },
   "id": "35037f3b99b2e19d"
  }
 ],
 "metadata": {
  "kernelspec": {
   "display_name": "Python 3",
   "language": "python",
   "name": "python3"
  },
  "language_info": {
   "codemirror_mode": {
    "name": "ipython",
    "version": 2
   },
   "file_extension": ".py",
   "mimetype": "text/x-python",
   "name": "python",
   "nbconvert_exporter": "python",
   "pygments_lexer": "ipython2",
   "version": "2.7.6"
  }
 },
 "nbformat": 4,
 "nbformat_minor": 5
}
